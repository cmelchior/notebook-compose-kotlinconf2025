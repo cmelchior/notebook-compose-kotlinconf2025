{
 "cells": [
  {
   "metadata": {
    "collapsed": true
   },
   "cell_type": "markdown",
   "source": [
    "# KotlinConf 2025\n",
    "\n",
    "This notebook is a backup notebook in case the live demo goes totally BOOM and network is gone (i.e. dependencies cannot load). It should be run before the talk, just so all dependencies are loaded."
   ]
  },
  {
   "metadata": {
    "ExecuteTime": {
     "end_time": "2025-05-21T11:23:08.900381Z",
     "start_time": "2025-05-21T11:23:08.866603Z"
    }
   },
   "cell_type": "code",
   "source": "println(\"Hello, World!\")",
   "outputs": [
    {
     "name": "stdout",
     "output_type": "stream",
     "text": [
      "Hello, World!\n"
     ]
    }
   ],
   "execution_count": 1
  },
  {
   "metadata": {
    "ExecuteTime": {
     "end_time": "2025-05-21T11:27:20.372642Z",
     "start_time": "2025-05-21T11:26:50.054192Z"
    }
   },
   "cell_type": "code",
   "source": "%use compose@file[/Users/christian.melchior/Private/compose-notebook/compose-dev.json], serialization",
   "outputs": [],
   "execution_count": 1
  }
 ],
 "metadata": {
  "kernelspec": {
   "display_name": "Kotlin",
   "language": "kotlin",
   "name": "kotlin"
  },
  "language_info": {
   "name": "kotlin",
   "version": "2.2.255-SNAPSHOT",
   "mimetype": "text/x-kotlin",
   "file_extension": ".kt",
   "pygments_lexer": "kotlin",
   "codemirror_mode": "text/x-kotlin",
   "nbconvert_exporter": ""
  },
  "ktnbPluginMetadata": {
   "sessionRunMode": "IDE_PROCESS",
   "projectDependencies": [
    "Compose-Notebook_Example.compose-example-project.main"
   ],
   "projectLibraries": false
  }
 },
 "nbformat": 4,
 "nbformat_minor": 0
}
